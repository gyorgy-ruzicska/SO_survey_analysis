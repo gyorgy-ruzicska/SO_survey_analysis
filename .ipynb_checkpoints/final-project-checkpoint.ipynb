{
 "cells": [
  {
   "cell_type": "markdown",
   "metadata": {},
   "source": [
    "<div class=\"frontmatter text-center\">\n",
    "<h2> DNDS6013 Scientific Python, Winter 2019-2020 </h2>\n",
    "<h2> Final Project, Due: Wednesday, April 26, Midnight </h2>\n",
    "</div>\n",
    "\n",
    "Instructions: Use markdown cells between code examples to explain."
   ]
  },
  {
   "cell_type": "markdown",
   "metadata": {},
   "source": [
    "## Objective\n",
    "\n",
    "Your project should perform a self-contained analysis of some empirical dataset, making use of the Python tools we have learned in this course.\n",
    "\n",
    "You are free to choose the origin and nature of the data you will use, but you are not allowed to use any of the data that was used in the lectures!\n",
    "\n",
    "Your project should consist of a **self-contained** Jupyter notebook that performs all steps of the analysis. \n",
    "\n",
    "**IMPORTANT:** All cells of your notebook must run without errors and output the correct information!\n",
    "\n",
    "### Your final submission must contain:\n",
    "\n",
    "1. An overall description and summary of your analysis, containing its objectives and conclusions using well-formatted markdown cells.\n",
    "\n",
    "2. A description of the data you are using, and of the entire scraping/download/cleaning/processing pipeline.\n",
    "\n",
    "3. A meaningful analysis of the data, that extracts from it some form of understanding that is not obvious a priori.\n",
    "\n",
    "4. Some form of data visualization.\n",
    "\n",
    "5. Use of **at least one** specialized python module for scientific data analysis (networkx, pandas, scipy or other similar package).\n",
    "\n",
    "\n",
    "Your submission will also be graded on clarity of exposition, so make sure to include markdown cells that explain your analysis."
   ]
  },
  {
   "cell_type": "code",
   "execution_count": null,
   "metadata": {},
   "outputs": [],
   "source": []
  }
 ],
 "metadata": {
  "kernelspec": {
   "display_name": "Python 3",
   "language": "python",
   "name": "python3"
  },
  "language_info": {
   "codemirror_mode": {
    "name": "ipython",
    "version": 3
   },
   "file_extension": ".py",
   "mimetype": "text/x-python",
   "name": "python",
   "nbconvert_exporter": "python",
   "pygments_lexer": "ipython3",
   "version": "3.7.4"
  }
 },
 "nbformat": 4,
 "nbformat_minor": 2
}

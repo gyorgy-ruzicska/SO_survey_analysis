{
 "cells": [
  {
   "cell_type": "markdown",
   "metadata": {},
   "source": [
    "### An analysis of Stack Overflow Developer Survey 2019\n",
    "\n",
    "Gyorgy Attila Ruzicska\n",
    "\n",
    "Scientific Python 2020 - Final Project\n",
    "\n",
    "***"
   ]
  },
  {
   "cell_type": "markdown",
   "metadata": {},
   "source": [
    "**Summary of analysis**\n",
    "\n",
    "In this project, I use the 2019 Developer Survey collected by Stack Overflow to analyze a number of interesting questions about the IT profession. The objective of this notebook is to provide a descriptive analysis on socially important questions in the population of the fast-growing IT industry/community. In particular, I am looking to answer three main questions: what are the most popular programming languages; what factors explain career satisfaction; and whether transgender people have more pessimistic views about the future. My analysis is far from being conclusive given the limited background information provided by the users, nonetheless, it can serve as a basis to reveal basic statistical patterns.\n",
    "\n",
    "Some of my main conclusions are as follows. The most widely used and desired to learn programming language is JavaScript. However, Python is the second most desired language to learn and is mostly studied by those who are not currently working as a developer by profession. Secondly, I show that when predicting career satisfaction, the ability to work remotely is one of the most economically significant positive determinant. On the other hand, the effect of not having had a job previously (probably students) and working in a toxic environment (by self-declaration) are the most significant factors that deteriorate career satisfaction. I also reveal that the proportion of transgender people in the sample of survey respondents is higher than in the overall population, and that they have more optimistic views on the future than an average respondent. Finally, I show that LGBT people are less ambitious to take on manager roles which may raise important policy considerations.\n",
    "\n",
    "**The data pipeline**\n",
    "\n",
    "I have downloaded the publicly available, anonymized data from the Stack overflow website: https://insights.stackoverflow.com/survey. The survey consists of two main datasets: survey_results_public.csv and survey_results_schema.csv. The former contains the main dataset where observations are respondents and columns are abbreviations of different questions (mostly multiple choice), while the latter contains the full-text questions corresponding to each abbreviation. (My Appendix also shows these questions for the columns being used in this analysis) Respondents were recruited online and the dataset is more representative among regular Stack Overflow users.\n",
    "\n",
    "To analyse the data, I cleaned the dataset in multiple steps. These steps are explained below in markdown cells and docstrings.\n",
    "***"
   ]
  },
  {
   "cell_type": "markdown",
   "metadata": {},
   "source": [
    "### Data Preparation"
   ]
  },
  {
   "cell_type": "markdown",
   "metadata": {},
   "source": [
    "Firstly, I import and clean the data so that it can be readily utilized for my analyses."
   ]
  },
  {
   "cell_type": "code",
   "execution_count": 271,
   "metadata": {},
   "outputs": [],
   "source": [
    "import numpy as np\n",
    "import pandas as pd\n",
    "import matplotlib.pyplot as plt\n",
    "from sklearn.linear_model import LinearRegression, LogisticRegression\n",
    "from sklearn.model_selection import train_test_split\n",
    "from sklearn.metrics import accuracy_score\n",
    "import seaborn as sns\n",
    "import statsmodels.api as sm\n",
    "%matplotlib inline"
   ]
  },
  {
   "cell_type": "code",
   "execution_count": 272,
   "metadata": {},
   "outputs": [],
   "source": [
    "# Import data\n",
    "df = pd.read_csv('./developer_survey_2019/survey_results_public.csv')\n",
    "\n",
    "# Perform some initial exploration of the data characteristics\n",
    "# df.head()\n",
    "# print(df.shape)\n",
    "# df.describe()"
   ]
  },
  {
   "cell_type": "code",
   "execution_count": 273,
   "metadata": {},
   "outputs": [],
   "source": [
    "#Keep the relevant data for analysis\n",
    "#This is a subjectice selection of characteristics that I found important to keep\n",
    "df=df[['MainBranch', 'Hobbyist', 'EdLevel', 'UndergradMajor', 'EduOther', 'DevType',\n",
    "      'CareerSat', 'LastHireDate', 'JobFactors', 'ConvertedComp', 'WorkWeekHrs', 'MgrWant',\n",
    "      'WorkPlan', 'WorkChallenge', 'WorkRemote', 'LanguageWorkedWith', 'LanguageDesireNextYear',\n",
    "      'BetterLife', 'SOVisit1st', 'SOVisitFreq', 'Age', 'Gender', 'Trans', 'Sexuality']]"
   ]
  },
  {
   "cell_type": "markdown",
   "metadata": {},
   "source": [
    "There are a number of columns in which respondents could choose from multiple options. I create separate columns for each option and indicate whether respondent has selected or not by a dummy variable. Furthermore, I create a function that performs the necessary steps for prediction."
   ]
  },
  {
   "cell_type": "code",
   "execution_count": 274,
   "metadata": {},
   "outputs": [],
   "source": [
    "def get_columns(df, multiple_choice_columns):\n",
    "    '''\n",
    "    Input:\n",
    "    df - data frame containing the data\n",
    "    multiple_choice_columns - list of columns that are multiple choice questions\n",
    "    \n",
    "    Output:\n",
    "    df_clean - dataset in which multiple_choice_columns are removed and separate columns with dummy\n",
    "               indicating whether selected or not are added\n",
    "    \n",
    "    The function performs the following steps:\n",
    "    1. Generates new columns with zero values based on the set of values present in the multiple\n",
    "       choice columns\n",
    "    2. Changes the values to one for those option that are selected by each user\n",
    "    3. Removes original mutliple choice columns\n",
    "    \n",
    "    '''\n",
    "    \n",
    "    #Generate the new columns with zeros\n",
    "    for i in multiple_choice_columns:\n",
    "        column=df[i]\n",
    "        list_of_values=[]\n",
    "        for row in column:\n",
    "            row=str(row)\n",
    "            list_of_values.extend(row.split(';'))\n",
    "        list_of_unique_values=set(list_of_values)\n",
    "        for j in list_of_unique_values:\n",
    "            df[i+'_'+j]=0\n",
    "    \n",
    "    #Change value if user selected a particular option\n",
    "    for index, row in df.iterrows():\n",
    "        for i in multiple_choice_columns:\n",
    "            row_str=str(row[i])\n",
    "            list_of_values=row_str.split(';')\n",
    "            for j in list_of_values:\n",
    "                df.at[index,i+'_'+j]=1\n",
    "    \n",
    "    #Drop original columns\n",
    "    df=df.drop(multiple_choice_columns, axis=1)\n",
    "    \n",
    "    return df\n",
    "\n",
    "def dummy_numeric_generator(df, to_numeric_columns, dependent_var=None):\n",
    "    '''\n",
    "    INPUT\n",
    "    df - data frame to be cleaned\n",
    "    to_numeric_columns - dictionary where keys are the column names and values are dictionaries with\n",
    "                         {...,category[i]: numeric[i],... } as {...,key[i]: value[i],...} pairs\n",
    "    dependent_var - variable which is to be predicted in the analysis (optional)\n",
    "    \n",
    "    OUTPUT\n",
    "    df - cleaned dataframe\n",
    "    \n",
    "    The function performs the following steps:\n",
    "    1. Drops the rows that lacks the dependent variable (e.g. career satisfaction) when provided\n",
    "    2. Transform to_numeric_columns to numeric\n",
    "    5. For all numeric explanatory columns, it fills the NaN values with the mean of columns\n",
    "    6. Createss dummy variables from categorical variables and sets 'NaN' as base category where possible,\n",
    "       sets a random category as base where not possible, and drops the base category columns\n",
    "    '''\n",
    "    # Drop rows with missing dependent variable\n",
    "    if dependent_var!=None:\n",
    "        df = df.dropna(subset=[dependent_var], axis=0)\n",
    "    \n",
    "    # Transform categorical columns to numeric\n",
    "    for k,v in to_numeric_columns.items():\n",
    "        df=df.replace({k: v})\n",
    "    \n",
    "    # Replace NaN values with mean\n",
    "    numeric_columns = df.select_dtypes(include=['float', 'int']).columns\n",
    "    for i in numeric_columns:\n",
    "        df[i].fillna((df[i].mean()), inplace=True)\n",
    "        \n",
    "    # Create dummies from categorical variables with nan values\n",
    "    categorical_columns = df.select_dtypes(include=['object'])\n",
    "    categorical_nan_columns=categorical_columns.columns[df[df.select_dtypes(include=['object']).columns].isnull().any()]\n",
    "    categorical_full_columns=categorical_columns.columns[~df[df.select_dtypes(include=['object']).columns].isnull().any()]\n",
    "\n",
    "    for i in  categorical_nan_columns:\n",
    "        df = pd.concat([df.drop(i, axis=1), pd.get_dummies(df[i], prefix=i)], axis=1)\n",
    "    \n",
    "    # Drop dummy columns that represent nan values to serve as base category in regression\n",
    "    df = df[df.columns.drop(list(df.filter(regex='_nan', axis=1)))]\n",
    "    \n",
    "    # Create dummies from categorical variables with no nan values, drop first categories from each\n",
    "    for i in  categorical_full_columns:\n",
    "        df = pd.concat([df.drop(i, axis=1), pd.get_dummies(df[i], prefix=i, drop_first=True)], axis=1) \n",
    "    \n",
    "    return df"
   ]
  },
  {
   "cell_type": "code",
   "execution_count": 275,
   "metadata": {},
   "outputs": [],
   "source": [
    "multiple_choice_columns=['EduOther', 'DevType', 'JobFactors', 'WorkChallenge', 'LanguageWorkedWith', 'LanguageDesireNextYear', 'Gender', 'Sexuality']\n",
    "df=get_columns(df, multiple_choice_columns)"
   ]
  },
  {
   "cell_type": "markdown",
   "metadata": {},
   "source": [
    "***"
   ]
  },
  {
   "cell_type": "markdown",
   "metadata": {},
   "source": [
    "### Question 1: What are the most popular programming languages?"
   ]
  },
  {
   "cell_type": "markdown",
   "metadata": {},
   "source": [
    "For the first question, I was interested in checking what are the most widely used programming languages and whether people in different positions use different languages. As we can see from the graphs below, JavaScript is both the most commonly used and the most desired language to learn. There is a huge difference between the proportion of users ever used JavaScript and Python: more than 60% of respondents use the former while only around 40% uses the latter. However, it is interesting to see that while Python is only the 4th most commonly used language, it is the second most desired language to learn."
   ]
  },
  {
   "cell_type": "code",
   "execution_count": 276,
   "metadata": {},
   "outputs": [
    {
     "data": {
      "image/png": "[encoded data removed]",
      "text/plain": [
       "<Figure size 576x288 with 1 Axes>"
      ]
     },
     "metadata": {
      "needs_background": "light"
     },
     "output_type": "display_data"
    },
    {
     "data": {
      "image/png": "[encoded data removed]",
      "text/plain": [
       "<Figure size 576x288 with 1 Axes>"
      ]
     },
     "metadata": {
      "needs_background": "light"
     },
     "output_type": "display_data"
    }
   ],
   "source": [
    "#Firstly, obtain proportion of people worked with and want to learn a given language (top 10)\n",
    "column_beginnings=['LanguageWorkedWith', 'LanguageDesireNextYear']\n",
    "\n",
    "for j in range(2):\n",
    "    globals()[column_beginnings[j]]={i.replace(column_beginnings[j]+'_',''):df[i].mean() for i in df.columns if column_beginnings[j] in i}\n",
    "    globals()[column_beginnings[j]]={k: [v] for k, v in sorted(globals()[column_beginnings[j]].items(), key=lambda item: item[1], reverse=True)[:10]}\n",
    "    globals()[column_beginnings[j]]=pd.DataFrame.from_dict(globals()[column_beginnings[j]])\n",
    "    \n",
    "#Second, visualize the top 10 programming languages\n",
    "for i in range(2):\n",
    "    plt.figure(figsize=(8,4))\n",
    "    globals()['chart'+str(i)]=sns.barplot(data=globals()[column_beginnings[i]])\n",
    "    globals()['chart'+str(i)].set_xticklabels(globals()['chart'+str(i)].get_xticklabels(), rotation=90)\n",
    "    if i==0:\n",
    "        plt.title('Proportion of respondents ever worked with the language')\n",
    "        plt.ylabel('Proportion of respondents')\n",
    "    else:\n",
    "        plt.title('Proportion of respondents desire to learn the language next year')\n",
    "        plt.ylabel('Proportion of respondents');"
   ]
  },
  {
   "cell_type": "markdown",
   "metadata": {},
   "source": [
    "Secondly, I wanted to see whether people at different stages of their developing career use different languages. In particular, respondents could choose whether they are\n",
    "1, developer by profession\n",
    "2, write code sometimes as part of their work\n",
    "3, used to be a developer by profession\n",
    "4, student learning to code\n",
    "5, code primarily as a hobby\n",
    "6, none of these.\n",
    "To make the visualization cleaner, I only compare the two most populous groups: developer by profession and student learning to code. From the graphs below, we can conclude that Java and Python are popular languages to start coding with, while JavaScript, SQL and C# are mostly used by professional developers. Javascript and HTML/CSS are also desired languages by both categories reflecting that web development is a popular learning field among both beginners and expert coders."
   ]
  },
  {
   "cell_type": "code",
   "execution_count": 277,
   "metadata": {},
   "outputs": [
    {
     "name": "stdout",
     "output_type": "stream",
     "text": [
      "I am a developer by profession            65679\n",
      "I am a student who is learning to code    10189\n",
      "Name: MainBranch, dtype: int64\n"
     ]
    },
    {
     "data": {
      "image/png": "[encoded data removed]",
      "text/plain": [
       "<Figure size 576x288 with 1 Axes>"
      ]
     },
     "metadata": {
      "needs_background": "light"
     },
     "output_type": "display_data"
    },
    {
     "data": {
      "image/png": "[encoded data removed]",
      "text/plain": [
       "<Figure size 576x288 with 1 Axes>"
      ]
     },
     "metadata": {
      "needs_background": "light"
     },
     "output_type": "display_data"
    }
   ],
   "source": [
    "# Firstly check the most populous groups\n",
    "print(df.MainBranch.value_counts()[:2])\n",
    "\n",
    "#Second, groupby respondents based on their answer to the question of interest\n",
    "for j in range(2):\n",
    "    globals()['list_of_'+column_beginnings[j]]=[i for i in df.columns if column_beginnings[j] in i]\n",
    "    globals()['df_'+column_beginnings[j]]= df.groupby(['MainBranch'], as_index=False)[globals()['list_of_'+column_beginnings[j]]].mean()\n",
    "    globals()['df_'+column_beginnings[j]] = globals()['df_'+column_beginnings[j]][(globals()['df_'+column_beginnings[j]]['MainBranch'] == 'I am a developer by profession') | \n",
    "                       (globals()['df_'+column_beginnings[j]]['MainBranch'] == 'I am a student who is learning to code') ]\n",
    "    globals()['df_'+column_beginnings[j]].columns=[i.replace(column_beginnings[j]+'_','') for i in globals()['df_'+column_beginnings[j]].columns]\n",
    "    globals()['df_'+column_beginnings[j]]=globals()['df_'+column_beginnings[j]].set_index('MainBranch')\n",
    "    globals()['df_'+column_beginnings[j]]=globals()['df_'+column_beginnings[j]].T\n",
    "    globals()['df_'+column_beginnings[j]]=globals()['df_'+column_beginnings[j]].sort_values(by=['I am a developer by profession'], ascending=False)[:10]\n",
    "    globals()['df_'+column_beginnings[j]]=globals()['df_'+column_beginnings[j]].reset_index()\n",
    "    globals()['df_'+column_beginnings[j]] = pd.melt(globals()['df_'+column_beginnings[j]], id_vars='index', value_vars=['I am a developer by profession', 'I am a student who is learning to code'])\n",
    "    \n",
    "#Third, visualize the top 10 programming languages\n",
    "for i in range(2):\n",
    "    plt.figure(figsize=(8,4))\n",
    "    globals()['chart'+str(i)]=sns.barplot(x='index', y='value', hue='MainBranch', data=globals()['df_'+column_beginnings[i]])\n",
    "    globals()['chart'+str(i)].set_xticklabels(globals()['chart'+str(i)].get_xticklabels(), rotation=90)\n",
    "    if i==0:\n",
    "        plt.title('Proportion of respondents ever worked with the language')\n",
    "        plt.ylabel('Proportion of respondents')\n",
    "        plt.xlabel('Programming languages')\n",
    "    else:\n",
    "        plt.title('Proportion of respondents desire to learn the language next year')\n",
    "        plt.ylabel('Proportion of respondents')\n",
    "        plt.xlabel('Programming languages');"
   ]
  },
  {
   "cell_type": "markdown",
   "metadata": {},
   "source": [
    "***"
   ]
  },
  {
   "cell_type": "markdown",
   "metadata": {},
   "source": [
    "### Question 2: What factors explain career satisfaction?"
   ]
  },
  {
   "cell_type": "markdown",
   "metadata": {},
   "source": [
    "Secondly, I was interested in finding out what factors contribute to developers' career satisfaction. Career satisfaction is a subjective measure provided on a 0-4 scale (after I transformed satisfaction categories to numeric). Applying a simple linear regression to find relationship between the variables may not be approporiate as the dependent variable (career satisfaction) can take on a limited set of discrete values. Therefore, in this analysis I test the performance of both OLS and multinomial logit to check which performs better in predicting career satisfaction based on the available factors. Not surprisingly, the latter performed better by more than 5% accuracy."
   ]
  },
  {
   "cell_type": "code",
   "execution_count": 278,
   "metadata": {},
   "outputs": [],
   "source": [
    "# Generate dictionary of categorical values to be transformed to numeric\n",
    "to_numeric_columns={'EdLevel':{'I never completed any formal education':0,\n",
    "                           'Primary/elementary school':1,\n",
    "                           'Secondary school (e.g. American high school, German Realschule or Gymnasium, etc.)':2,\n",
    "                           'Some college/university study without earning a degree':3,\n",
    "                           'Associate degree':4,\n",
    "                           'Bachelor’s degree (BA, BS, B.Eng., etc.)':5,\n",
    "                           'Master’s degree (MA, MS, M.Eng., MBA, etc.)':6,\n",
    "                           'Professional degree (JD, MD, etc.)':7,\n",
    "                           'Other doctoral degree (Ph.D, Ed.D., etc.)':8},\n",
    "                'CareerSat':{'Very dissatisfied':0,\n",
    "                            'Slightly dissatisfied':1,\n",
    "                            'Neither satisfied nor dissatisfied':2,\n",
    "                            'Slightly satisfied':3,\n",
    "                            'Very satisfied':4},\n",
    "                'SOVisitFreq':{'I have never visited Stack Overflow (before today)':0,\n",
    "                              'Less than once per month or monthly':1,\n",
    "                              'A few times per month or weekly':2,\n",
    "                              'A few times per week':3,\n",
    "                              'Daily or almost daily':4,\n",
    "                              'Multiple times per day':5}}\n",
    "\n",
    "# Perform cleaning\n",
    "df2=dummy_numeric_generator(df, to_numeric_columns, dependent_var='CareerSat')"
   ]
  },
  {
   "cell_type": "markdown",
   "metadata": {},
   "source": [
    "The following code outputs the accuracy measures of the two model. Because OLS predicts a float and logit an integer, it is not surprising that OLS manages to predict the correct integer only in 6.2% cases in the test set. Nonetheless, when rounding the OLS predictions to the nearest integer the results are more similar: OLS predicts correctly 34.4% of the values while logit 40% in the test data. This shows the advantage of using multinomial logit when we have count data as a dependent variable."
   ]
  },
  {
   "cell_type": "code",
   "execution_count": 279,
   "metadata": {},
   "outputs": [
    {
     "data": {
      "text/html": [
       "<div>\n",
       "<style scoped>\n",
       "    .dataframe tbody tr th:only-of-type {\n",
       "        vertical-align: middle;\n",
       "    }\n",
       "\n",
       "    .dataframe tbody tr th {\n",
       "        vertical-align: top;\n",
       "    }\n",
       "\n",
       "    .dataframe thead th {\n",
       "        text-align: right;\n",
       "    }\n",
       "</style>\n",
       "<table border=\"1\" class=\"dataframe\">\n",
       "  <thead>\n",
       "    <tr style=\"text-align: right;\">\n",
       "      <th></th>\n",
       "      <th>Scores</th>\n",
       "    </tr>\n",
       "  </thead>\n",
       "  <tbody>\n",
       "    <tr>\n",
       "      <th>LinearRegression_train</th>\n",
       "      <td>0.070462</td>\n",
       "    </tr>\n",
       "    <tr>\n",
       "      <th>LinearRegression_test</th>\n",
       "      <td>0.062493</td>\n",
       "    </tr>\n",
       "    <tr>\n",
       "      <th>LinearRegression_train_accuracy</th>\n",
       "      <td>0.345152</td>\n",
       "    </tr>\n",
       "    <tr>\n",
       "      <th>LinearRegression_test_score</th>\n",
       "      <td>0.343903</td>\n",
       "    </tr>\n",
       "    <tr>\n",
       "      <th>LogisticRegression_train</th>\n",
       "      <td>0.400631</td>\n",
       "    </tr>\n",
       "    <tr>\n",
       "      <th>LogisticRegression_test</th>\n",
       "      <td>0.400137</td>\n",
       "    </tr>\n",
       "  </tbody>\n",
       "</table>\n",
       "</div>"
      ],
      "text/plain": [
       "                                   Scores\n",
       "LinearRegression_train           0.070462\n",
       "LinearRegression_test            0.062493\n",
       "LinearRegression_train_accuracy  0.345152\n",
       "LinearRegression_test_score      0.343903\n",
       "LogisticRegression_train         0.400631\n",
       "LogisticRegression_test          0.400137"
      ]
     },
     "execution_count": 279,
     "metadata": {},
     "output_type": "execute_result"
    }
   ],
   "source": [
    "# Generate dependent and independent variable dataframes\n",
    "x=df2.drop('CareerSat', axis=1)\n",
    "y=df2['CareerSat']\n",
    "\n",
    "# Use train-test split with a random state for reproducability\n",
    "x_train, x_test, y_train, y_test=train_test_split(x,y, test_size=0.3, random_state=2020)\n",
    "\n",
    "# List the models to be used\n",
    "models=['LinearRegression', 'LogisticRegression']\n",
    "scores={}\n",
    "\n",
    "# Instantiate, and fit the model on train set, the predict on test set\n",
    "# Calculate the proprortion correctly predicted, and for OLS the accuracy when predictions are rounded\n",
    "for i in models:\n",
    "    globals()[i+'_model'] = globals()[i]() # Instantiate\n",
    "    globals()[i+'_model'].fit(x_train, y_train) #Fit\n",
    "\n",
    "    #Predict using model\n",
    "    y_test_preds = globals()[i+'_model'].predict(x_test)\n",
    "    y_train_preds = globals()[i+'_model'].predict(x_train)\n",
    "\n",
    "    #Score using model\n",
    "    scores[i+'_train'] = globals()[i+'_model'].score(x_train, y_train)\n",
    "    scores[i+'_test'] = globals()[i+'_model'].score(x_test, y_test)\n",
    "    \n",
    "    if i=='LinearRegression':\n",
    "        #Get accuracy for OLS with rounding\n",
    "        scores[i+'_train_accuracy'] = accuracy_score(y_train, y_train_preds.round())\n",
    "        scores[i+'_test_score'] = accuracy_score(y_test, y_test_preds.round())\n",
    "        \n",
    "pd.DataFrame(scores, index=['Scores']).T"
   ]
  },
  {
   "cell_type": "markdown",
   "metadata": {},
   "source": [
    "Furthermore, I was interested to see what are the most important factors that explain career satisfaction as presented by OLS. I used this model as the coefficients are more easily interpretable than with logit. We can see the 10 highest coefficients below: the opportunity to work remotely increases career satisfaction by around 0.5 point. Furthermore, being a manager also increases satisfaction while not having a job before and working in a toxic environment are the most negative factors. It is interesting to see that salary is not among the most important factors explaining career satisfaction."
   ]
  },
  {
   "cell_type": "code",
   "execution_count": 280,
   "metadata": {},
   "outputs": [
    {
     "data": {
      "text/html": [
       "<div>\n",
       "<style scoped>\n",
       "    .dataframe tbody tr th:only-of-type {\n",
       "        vertical-align: middle;\n",
       "    }\n",
       "\n",
       "    .dataframe tbody tr th {\n",
       "        vertical-align: top;\n",
       "    }\n",
       "\n",
       "    .dataframe thead th {\n",
       "        text-align: right;\n",
       "    }\n",
       "</style>\n",
       "<table border=\"1\" class=\"dataframe\">\n",
       "  <thead>\n",
       "    <tr style=\"text-align: right;\">\n",
       "      <th></th>\n",
       "      <th>Variable</th>\n",
       "      <th>Value</th>\n",
       "    </tr>\n",
       "  </thead>\n",
       "  <tbody>\n",
       "    <tr>\n",
       "      <th>148</th>\n",
       "      <td>WorkRemote_Less than half the time, but at lea...</td>\n",
       "      <td>0.513580</td>\n",
       "    </tr>\n",
       "    <tr>\n",
       "      <th>144</th>\n",
       "      <td>WorkRemote_A few days each month</td>\n",
       "      <td>0.490809</td>\n",
       "    </tr>\n",
       "    <tr>\n",
       "      <th>146</th>\n",
       "      <td>WorkRemote_All or almost all the time (I'm ful...</td>\n",
       "      <td>0.490045</td>\n",
       "    </tr>\n",
       "    <tr>\n",
       "      <th>145</th>\n",
       "      <td>WorkRemote_About half the time</td>\n",
       "      <td>0.425213</td>\n",
       "    </tr>\n",
       "    <tr>\n",
       "      <th>150</th>\n",
       "      <td>WorkRemote_More than half, but not all, the time</td>\n",
       "      <td>0.410924</td>\n",
       "    </tr>\n",
       "    <tr>\n",
       "      <th>149</th>\n",
       "      <td>WorkRemote_Less than once per month / Never</td>\n",
       "      <td>0.375124</td>\n",
       "    </tr>\n",
       "    <tr>\n",
       "      <th>133</th>\n",
       "      <td>LastHireDate_I've never had a job</td>\n",
       "      <td>-0.314065</td>\n",
       "    </tr>\n",
       "    <tr>\n",
       "      <th>137</th>\n",
       "      <td>MgrWant_I am already a manager</td>\n",
       "      <td>0.286486</td>\n",
       "    </tr>\n",
       "    <tr>\n",
       "      <th>147</th>\n",
       "      <td>WorkRemote_It's complicated</td>\n",
       "      <td>0.255361</td>\n",
       "    </tr>\n",
       "    <tr>\n",
       "      <th>55</th>\n",
       "      <td>WorkChallenge_Toxic work environment</td>\n",
       "      <td>-0.233975</td>\n",
       "    </tr>\n",
       "  </tbody>\n",
       "</table>\n",
       "</div>"
      ],
      "text/plain": [
       "                                              Variable     Value\n",
       "148  WorkRemote_Less than half the time, but at lea...  0.513580\n",
       "144                   WorkRemote_A few days each month  0.490809\n",
       "146  WorkRemote_All or almost all the time (I'm ful...  0.490045\n",
       "145                     WorkRemote_About half the time  0.425213\n",
       "150   WorkRemote_More than half, but not all, the time  0.410924\n",
       "149        WorkRemote_Less than once per month / Never  0.375124\n",
       "133                  LastHireDate_I've never had a job -0.314065\n",
       "137                     MgrWant_I am already a manager  0.286486\n",
       "147                        WorkRemote_It's complicated  0.255361\n",
       "55                WorkChallenge_Toxic work environment -0.233975"
      ]
     },
     "execution_count": 280,
     "metadata": {},
     "output_type": "execute_result"
    }
   ],
   "source": [
    "#Obtain OLS coefficients and get the 10 largest in magnitude\n",
    "coefficients = pd.concat([pd.DataFrame(x.columns),pd.DataFrame(np.transpose(LinearRegression_model.coef_))], axis = 1)\n",
    "coefficients.columns=['Variable','Value']\n",
    "coefficients=coefficients.reindex(coefficients['Value'].abs().sort_values(ascending=False).index)[:10]\n",
    "coefficients"
   ]
  },
  {
   "cell_type": "markdown",
   "metadata": {},
   "source": [
    "Finally, I wanted to check whether the coefficients are also significant statistically and the below table shows that they are indeed."
   ]
  },
  {
   "cell_type": "code",
   "execution_count": 281,
   "metadata": {},
   "outputs": [
    {
     "name": "stderr",
     "output_type": "stream",
     "text": [
      "/Library/Frameworks/Python.framework/Versions/3.8/lib/python3.8/site-packages/numpy/core/fromnumeric.py:2542: FutureWarning: Method .ptp is deprecated and will be removed in a future version. Use numpy.ptp instead.\n",
      "  return ptp(axis=axis, out=out, **kwargs)\n"
     ]
    },
    {
     "data": {
      "text/html": [
       "<div>\n",
       "<style scoped>\n",
       "    .dataframe tbody tr th:only-of-type {\n",
       "        vertical-align: middle;\n",
       "    }\n",
       "\n",
       "    .dataframe tbody tr th {\n",
       "        vertical-align: top;\n",
       "    }\n",
       "\n",
       "    .dataframe thead th {\n",
       "        text-align: right;\n",
       "    }\n",
       "</style>\n",
       "<table border=\"1\" class=\"dataframe\">\n",
       "  <thead>\n",
       "    <tr style=\"text-align: right;\">\n",
       "      <th></th>\n",
       "      <th>variable</th>\n",
       "      <th>coef</th>\n",
       "      <th>std_err</th>\n",
       "      <th>t</th>\n",
       "      <th>P&gt;|t|</th>\n",
       "      <th>[0.025</th>\n",
       "      <th>0.0975]</th>\n",
       "    </tr>\n",
       "  </thead>\n",
       "  <tbody>\n",
       "    <tr>\n",
       "      <th>1</th>\n",
       "      <td>const</td>\n",
       "      <td>2.3566</td>\n",
       "      <td>0.079</td>\n",
       "      <td>30.018</td>\n",
       "      <td>0.000</td>\n",
       "      <td>2.203</td>\n",
       "      <td>2.510</td>\n",
       "    </tr>\n",
       "    <tr>\n",
       "      <th>57</th>\n",
       "      <td>WorkChallenge_Toxic work environment</td>\n",
       "      <td>-0.2340</td>\n",
       "      <td>0.013</td>\n",
       "      <td>-17.341</td>\n",
       "      <td>0.000</td>\n",
       "      <td>-0.260</td>\n",
       "      <td>-0.208</td>\n",
       "    </tr>\n",
       "    <tr>\n",
       "      <th>135</th>\n",
       "      <td>LastHireDate_I've never had a job</td>\n",
       "      <td>-0.3141</td>\n",
       "      <td>0.092</td>\n",
       "      <td>-3.396</td>\n",
       "      <td>0.001</td>\n",
       "      <td>-0.495</td>\n",
       "      <td>-0.133</td>\n",
       "    </tr>\n",
       "    <tr>\n",
       "      <th>139</th>\n",
       "      <td>MgrWant_I am already a manager</td>\n",
       "      <td>0.2865</td>\n",
       "      <td>0.032</td>\n",
       "      <td>8.890</td>\n",
       "      <td>0.000</td>\n",
       "      <td>0.223</td>\n",
       "      <td>0.350</td>\n",
       "    </tr>\n",
       "    <tr>\n",
       "      <th>146</th>\n",
       "      <td>WorkRemote_A few days each month</td>\n",
       "      <td>0.4908</td>\n",
       "      <td>0.041</td>\n",
       "      <td>11.828</td>\n",
       "      <td>0.000</td>\n",
       "      <td>0.409</td>\n",
       "      <td>0.572</td>\n",
       "    </tr>\n",
       "    <tr>\n",
       "      <th>147</th>\n",
       "      <td>WorkRemote_About half the time</td>\n",
       "      <td>0.4252</td>\n",
       "      <td>0.050</td>\n",
       "      <td>8.543</td>\n",
       "      <td>0.000</td>\n",
       "      <td>0.328</td>\n",
       "      <td>0.523</td>\n",
       "    </tr>\n",
       "    <tr>\n",
       "      <th>148</th>\n",
       "      <td>WorkRemote_All or almost all the time (I'm ful...</td>\n",
       "      <td>0.4900</td>\n",
       "      <td>0.042</td>\n",
       "      <td>11.665</td>\n",
       "      <td>0.000</td>\n",
       "      <td>0.408</td>\n",
       "      <td>0.572</td>\n",
       "    </tr>\n",
       "    <tr>\n",
       "      <th>149</th>\n",
       "      <td>WorkRemote_It's complicated</td>\n",
       "      <td>0.2554</td>\n",
       "      <td>0.045</td>\n",
       "      <td>5.657</td>\n",
       "      <td>0.000</td>\n",
       "      <td>0.167</td>\n",
       "      <td>0.344</td>\n",
       "    </tr>\n",
       "    <tr>\n",
       "      <th>150</th>\n",
       "      <td>WorkRemote_Less than half the time, but at lea...</td>\n",
       "      <td>0.5136</td>\n",
       "      <td>0.044</td>\n",
       "      <td>11.742</td>\n",
       "      <td>0.000</td>\n",
       "      <td>0.428</td>\n",
       "      <td>0.599</td>\n",
       "    </tr>\n",
       "    <tr>\n",
       "      <th>151</th>\n",
       "      <td>WorkRemote_Less than once per month / Never</td>\n",
       "      <td>0.3751</td>\n",
       "      <td>0.041</td>\n",
       "      <td>9.187</td>\n",
       "      <td>0.000</td>\n",
       "      <td>0.295</td>\n",
       "      <td>0.455</td>\n",
       "    </tr>\n",
       "    <tr>\n",
       "      <th>152</th>\n",
       "      <td>WorkRemote_More than half, but not all, the time</td>\n",
       "      <td>0.4109</td>\n",
       "      <td>0.048</td>\n",
       "      <td>8.495</td>\n",
       "      <td>0.000</td>\n",
       "      <td>0.316</td>\n",
       "      <td>0.506</td>\n",
       "    </tr>\n",
       "  </tbody>\n",
       "</table>\n",
       "</div>"
      ],
      "text/plain": [
       "                                              variable    coef    std_err  \\\n",
       "1                                                const  2.3566      0.079   \n",
       "57                WorkChallenge_Toxic work environment -0.2340      0.013   \n",
       "135                  LastHireDate_I've never had a job -0.3141      0.092   \n",
       "139                     MgrWant_I am already a manager  0.2865      0.032   \n",
       "146                   WorkRemote_A few days each month  0.4908      0.041   \n",
       "147                     WorkRemote_About half the time  0.4252      0.050   \n",
       "148  WorkRemote_All or almost all the time (I'm ful...  0.4900      0.042   \n",
       "149                        WorkRemote_It's complicated  0.2554      0.045   \n",
       "150  WorkRemote_Less than half the time, but at lea...  0.5136      0.044   \n",
       "151        WorkRemote_Less than once per month / Never  0.3751      0.041   \n",
       "152   WorkRemote_More than half, but not all, the time  0.4109      0.048   \n",
       "\n",
       "             t   P>|t|     [0.025    0.0975]  \n",
       "1       30.018   0.000      2.203      2.510  \n",
       "57     -17.341   0.000     -0.260     -0.208  \n",
       "135     -3.396   0.001     -0.495     -0.133  \n",
       "139      8.890   0.000      0.223      0.350  \n",
       "146     11.828   0.000      0.409      0.572  \n",
       "147      8.543   0.000      0.328      0.523  \n",
       "148     11.665   0.000      0.408      0.572  \n",
       "149      5.657   0.000      0.167      0.344  \n",
       "150     11.742   0.000      0.428      0.599  \n",
       "151      9.187   0.000      0.295      0.455  \n",
       "152      8.495   0.000      0.316      0.506  "
      ]
     },
     "execution_count": 281,
     "metadata": {},
     "output_type": "execute_result"
    }
   ],
   "source": [
    "# Perform the same OLS analysis as above but now with statsmodel so that I obtain standard errors\n",
    "x_train_constant = sm.add_constant(x_train)\n",
    "ols = sm.OLS(y_train, x_train_constant)\n",
    "ols_result = ols.fit()\n",
    "ols_result=pd.DataFrame(ols_result.summary().tables[1])\n",
    "ols_result.iloc[0]= ols_result.iloc[0].to_string().split('\\n')\n",
    "ols_result.columns = ols_result.iloc[0]\n",
    "ols_result = ols_result[1:]\n",
    "ols_result.columns=['variable', 'coef', 'std_err','t', 'P>|t|', '[0.025', '0.0975]']\n",
    "ols_result['coef']=ols_result['coef'].astype(str).str.strip().astype(float)\n",
    "ols_result = ols_result[ols_result['coef'].abs()>=0.23]\n",
    "ols_result"
   ]
  },
  {
   "cell_type": "markdown",
   "metadata": {},
   "source": [
    "***"
   ]
  },
  {
   "cell_type": "markdown",
   "metadata": {},
   "source": [
    "### Question 3: Do transgender people have more pessimistic views about future?"
   ]
  },
  {
   "cell_type": "markdown",
   "metadata": {},
   "source": [
    "My motivation to answer this question comes from a recent index.hu video in which transgender people were asked about their views on the newly proposed law that would prohibit Hungarians to change their gender at birth on papers. 3 out of the 4 transgender interviewees reported to work as a programmer as this profession is more open and accepting towards their gender identity. Therefore, using the dataset I would like to see whether transgender people are overrepresented in the survey (compared to their share in the overall population) and whether they differ significantly in any demographics from the non-transgender population.\n",
    "\n",
    "Firstly, I checked the proportion of transgender people in the sample of respondents which is 1.15%. This is 90% higher than their overall share in the population which is around 0.6%. Therefore, this number clearly shows that transgender people are overrepresented in the developer profession."
   ]
  },
  {
   "cell_type": "code",
   "execution_count": 282,
   "metadata": {},
   "outputs": [
    {
     "name": "stdout",
     "output_type": "stream",
     "text": [
      "0.011599518468098511\n"
     ]
    }
   ],
   "source": [
    "# Prepare the dataset, now without adding any dependent variable to the dummy_numeric_generator function\n",
    "df3=dummy_numeric_generator(df, to_numeric_columns)\n",
    "# Generate list with first element number of non-trans, second number of trans people\n",
    "trans_no_yes=list(df3['Trans_Yes'].value_counts())\n",
    "# Obtain the proportion of trans in the sample\n",
    "trans_proportion=trans_no_yes[1]/(trans_no_yes[0]+trans_no_yes[1])\n",
    "print(trans_proportion)"
   ]
  },
  {
   "cell_type": "markdown",
   "metadata": {},
   "source": [
    "Secondly, I wanted to see whether transgender people differ in some background characteristics. From the data, we can conclude that non-trans respondents are better educated, more satisfied with their careers and visit the Stack Overflow site more frequently. Nonetheless, there are very little differences in the other background characteristics such as compensation, working hours and coding as a hobby."
   ]
  },
  {
   "cell_type": "code",
   "execution_count": 283,
   "metadata": {},
   "outputs": [
    {
     "data": {
      "text/html": [
       "<div>\n",
       "<style scoped>\n",
       "    .dataframe tbody tr th:only-of-type {\n",
       "        vertical-align: middle;\n",
       "    }\n",
       "\n",
       "    .dataframe tbody tr th {\n",
       "        vertical-align: top;\n",
       "    }\n",
       "\n",
       "    .dataframe thead th {\n",
       "        text-align: right;\n",
       "    }\n",
       "</style>\n",
       "<table border=\"1\" class=\"dataframe\">\n",
       "  <thead>\n",
       "    <tr style=\"text-align: right;\">\n",
       "      <th></th>\n",
       "      <th>EdLevel</th>\n",
       "      <th>CareerSat</th>\n",
       "      <th>ConvertedComp</th>\n",
       "      <th>WorkWeekHrs</th>\n",
       "      <th>SOVisitFreq</th>\n",
       "      <th>BetterLife_Yes</th>\n",
       "      <th>Age</th>\n",
       "      <th>Hobbyist_Yes</th>\n",
       "    </tr>\n",
       "    <tr>\n",
       "      <th>Trans_Yes</th>\n",
       "      <th></th>\n",
       "      <th></th>\n",
       "      <th></th>\n",
       "      <th></th>\n",
       "      <th></th>\n",
       "      <th></th>\n",
       "      <th></th>\n",
       "      <th></th>\n",
       "    </tr>\n",
       "  </thead>\n",
       "  <tbody>\n",
       "    <tr>\n",
       "      <th>0</th>\n",
       "      <td>4.671867</td>\n",
       "      <td>2.938912</td>\n",
       "      <td>127051.875820</td>\n",
       "      <td>42.127944</td>\n",
       "      <td>3.706427</td>\n",
       "      <td>0.617926</td>\n",
       "      <td>30.354982</td>\n",
       "      <td>0.801336</td>\n",
       "    </tr>\n",
       "    <tr>\n",
       "      <th>1</th>\n",
       "      <td>3.960726</td>\n",
       "      <td>2.736598</td>\n",
       "      <td>132126.448819</td>\n",
       "      <td>42.063622</td>\n",
       "      <td>2.977379</td>\n",
       "      <td>0.632396</td>\n",
       "      <td>28.778747</td>\n",
       "      <td>0.832202</td>\n",
       "    </tr>\n",
       "  </tbody>\n",
       "</table>\n",
       "</div>"
      ],
      "text/plain": [
       "            EdLevel  CareerSat  ConvertedComp  WorkWeekHrs  SOVisitFreq  \\\n",
       "Trans_Yes                                                                 \n",
       "0          4.671867   2.938912  127051.875820    42.127944     3.706427   \n",
       "1          3.960726   2.736598  132126.448819    42.063622     2.977379   \n",
       "\n",
       "           BetterLife_Yes        Age  Hobbyist_Yes  \n",
       "Trans_Yes                                           \n",
       "0                0.617926  30.354982      0.801336  \n",
       "1                0.632396  28.778747      0.832202  "
      ]
     },
     "execution_count": 283,
     "metadata": {},
     "output_type": "execute_result"
    }
   ],
   "source": [
    "# Groupby trans dummy variable and keep relevant numeric columns\n",
    "df3.groupby(['Trans_Yes'])[['EdLevel', 'CareerSat', 'ConvertedComp', 'WorkWeekHrs', 'SOVisitFreq', 'BetterLife_Yes',\n",
    "       'Age', 'Hobbyist_Yes']].mean()"
   ]
  },
  {
   "cell_type": "markdown",
   "metadata": {},
   "source": [
    "Next, I was interested whether being a transgender person correlates strongly with some of the background variables. We can see that reporting non-binary gender is the most strongly correlated wit being trans, however, there is a weak correlation between believing that current generations have better life than their parents did (shown by the correlation of Trans_Yes and BetterLife_Yes columns). Therefore, it seems that transgender people are more optimist about where the world is heading than an average non-trans programmer."
   ]
  },
  {
   "cell_type": "code",
   "execution_count": 284,
   "metadata": {},
   "outputs": [
    {
     "data": {
      "image/png": "[encoded data removed]",
      "text/plain": [
       "<Figure size 432x288 with 2 Axes>"
      ]
     },
     "metadata": {
      "needs_background": "light"
     },
     "output_type": "display_data"
    }
   ],
   "source": [
    "corrMatrix = df3[['CareerSat', 'EdLevel', 'Gender_Man', \\\n",
    "                  'Gender_Non-binary, genderqueer, or gender non-conforming', 'BetterLife_Yes', \\\n",
    "                  'Trans_Yes']].corr()\n",
    "sns.heatmap(corrMatrix, annot=True)\n",
    "plt.show()"
   ]
  },
  {
   "cell_type": "markdown",
   "metadata": {},
   "source": [
    "Finally, I wanted to see whether LGBT people have different aspirations about being a manager in the future and whether they take on different roles than non-LGBT programmers. For that, I first defined a category which indicates whether a respondent is a member of LGBT then visualized the categories of interest by LGBT membership. As can be seen from the bar charts, a larger proportion of LGBT respondents report themselves as students who learn programming, furthermore, they take on designer and system andministrator roles relatively more frequently. Secondly, LGBT people are less ambitious to take on leadership roles which is an interesting finding and should be further analysed to support equality of opportunity irrespective of gender and sexuality. "
   ]
  },
  {
   "cell_type": "code",
   "execution_count": 285,
   "metadata": {},
   "outputs": [],
   "source": [
    "def lgbt(dframe):\n",
    "    if (dframe['Sexuality_Gay or Lesbian'] ==1) or (dframe['Sexuality_Bisexual'] == 1) or (dframe['Sexuality_Bisexual'] ==1):\n",
    "        return 'Yes'\n",
    "    elif (dframe['Sexuality_Straight / Heterosexual'] ==1):\n",
    "        return 'No'\n",
    "    else:\n",
    "        return np.NaN\n",
    "\n",
    "df3['LGBT']=df3.apply(lgbt, axis=1).dropna()\n",
    "#df3['LGBT'].value_counts()"
   ]
  },
  {
   "cell_type": "code",
   "execution_count": 286,
   "metadata": {},
   "outputs": [
    {
     "data": {
      "image/png": "[encoded data removed]",
      "text/plain": [
       "<Figure size 576x288 with 1 Axes>"
      ]
     },
     "metadata": {
      "needs_background": "light"
     },
     "output_type": "display_data"
    },
    {
     "data": {
      "image/png": "[encoded data removed]",
      "text/plain": [
       "<Figure size 576x288 with 1 Axes>"
      ]
     },
     "metadata": {
      "needs_background": "light"
     },
     "output_type": "display_data"
    }
   ],
   "source": [
    "column_beginnings=['DevType', 'MgrWant']\n",
    "\n",
    "for j in range(2):\n",
    "    globals()['list_of_'+column_beginnings[j]]=[i for i in df2.columns if column_beginnings[j] in i]\n",
    "    globals()['df_'+column_beginnings[j]]= df3.groupby(['LGBT'], as_index=False)[globals()['list_of_'+column_beginnings[j]]].mean()\n",
    "    globals()['df_'+column_beginnings[j]].columns=[i.replace(column_beginnings[j]+'_','') for i in globals()['df_'+column_beginnings[j]].columns]\n",
    "    globals()['df_'+column_beginnings[j]]=globals()['df_'+column_beginnings[j]].set_index('LGBT')\n",
    "    globals()['df_'+column_beginnings[j]]=globals()['df_'+column_beginnings[j]].T\n",
    "    globals()['df_'+column_beginnings[j]]=globals()['df_'+column_beginnings[j]].sort_values(by=['Yes'], ascending=False)[:10]\n",
    "    globals()['df_'+column_beginnings[j]]=globals()['df_'+column_beginnings[j]].reset_index()\n",
    "    globals()['df_'+column_beginnings[j]] = pd.melt(globals()['df_'+column_beginnings[j]], id_vars='index')\n",
    "    \n",
    "for i in range(2):\n",
    "    plt.figure(figsize=(8,4))\n",
    "    globals()['chart'+str(i)]=sns.barplot(x='value', y='index', hue='LGBT', data=globals()['df_'+column_beginnings[i]])\n",
    "    globals()['chart'+str(i)].set_xticklabels(globals()['chart'+str(i)].get_xticklabels(), rotation=90)\n",
    "    if i==0:\n",
    "        plt.title('Proportion of respondents in different developer positions by being LGBT')\n",
    "        plt.ylabel('Programming languages')\n",
    "        plt.xlabel('Proportion of respondents')\n",
    "    else:\n",
    "        plt.title('Proportion of respondents who want to become a manager by being LGBT')\n",
    "        plt.ylabel('Question responses')\n",
    "        plt.xlabel('Proportion of respondents');"
   ]
  },
  {
   "cell_type": "markdown",
   "metadata": {},
   "source": [
    "***\n",
    "Appendix:\n",
    "\n",
    "Questions corresponding to each column:\n",
    "\n",
    "1. MainBranch - Which of the following options best describes you today? Here, by \"developer\" we mean \"someone who writes code.\"\n",
    "2. Hobbyist - Do you code as a hobby?\n",
    "3. EdLevel - Which of the following best describes the highest level of formal education that you have completed?\n",
    "4. UndergradMajor - What was your main or most important field of study?\n",
    "5. EduOther - Which of the following types of non-degree education have you used or participated in? Please select all that apply.\n",
    "6. DevType - Which of the following describe you? Please select all that apply.\n",
    "7. CareerSat - Overall, how satisfied are you with your career thus far?\n",
    "8. MgrWant - Do you want to become a manager yourself in the future?\n",
    "9. LastHireDate - When was the last time that you took a job with a new employer?\n",
    "10. JobFactors - Imagine that you are deciding between two job offers with the same compensation, benefits, and location. Of the following factors, which 3 are MOST important to you?\n",
    "11. ConvertedComp - Salary converted to annual USD salaries using the exchange rate on 2019-02-01, assuming 12 working months and 50 working weeks.\n",
    "12. WorkWeekHrs - On average, how many hours per week do you work?\n",
    "13. WorkPlan - How structured or planned is your work?\n",
    "14. WorkChallenge - Of these options, what are your greatest challenges to productivity as a developer? Select up to 3:\n",
    "15. WorkRemote - How often do you work remotely?\n",
    "16. LanguageWorkedWith - Which of the following programming, scripting, and markup languages have you done extensive development work in over the past year, and which do you want to work in over the next year?  (If you both worked with the language and want to continue to do so, please check both boxes in that row.)\n",
    "17. LanguageDesireNextYear - As above.\n",
    "18. BetterLife - Do you think people born today will have a better life than their parents?\n",
    "19. SOVisit1st - To the best of your memory, when did you first visit Stack Overflow?\n",
    "20. SOVisitFreq - How frequently would you say you visit Stack Overflow?\n",
    "21. Age - What is your age (in years)? If you prefer not to answer, you may leave this question blank.\n",
    "22. Gender - Which of the following do you currently identify as? Please select all that apply. If you prefer not to answer, you may leave this question blank.\n",
    "23. Trans - Do you identify as transgender?\n",
    "24. Sexuality - Which of the following do you currently identify as? Please select all that apply. If you prefer not to answer, you may leave this question blank."
   ]
  },
  {
   "cell_type": "code",
   "execution_count": null,
   "metadata": {},
   "outputs": [],
   "source": []
  }
 ],
 "metadata": {
  "kernelspec": {
   "display_name": "Python 3",
   "language": "python",
   "name": "python3"
  },
  "language_info": {
   "codemirror_mode": {
    "name": "ipython",
    "version": 3
   },
   "file_extension": ".py",
   "mimetype": "text/x-python",
   "name": "python",
   "nbconvert_exporter": "python",
   "pygments_lexer": "ipython3",
   "version": "3.8.1"
  }
 },
 "nbformat": 4,
 "nbformat_minor": 4
}
